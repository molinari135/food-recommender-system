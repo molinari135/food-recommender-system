{
 "cells": [
  {
   "cell_type": "markdown",
   "metadata": {},
   "source": [
    "# Dataset Analysis\n",
    "\n",
    "**Goal**: choose the most suitable dataset for the project"
   ]
  },
  {
   "cell_type": "code",
   "execution_count": 6,
   "metadata": {},
   "outputs": [],
   "source": [
    "import pandas as pd"
   ]
  },
  {
   "cell_type": "code",
   "execution_count": 9,
   "metadata": {},
   "outputs": [],
   "source": [
    "nutri_facts = pd.read_csv(r'..\\data\\raw\\nutritional-facts.csv')\n",
    "nutri_facts_common = pd.read_csv(r'..\\data\\raw\\nutritional-facts-for-most-common-foods-and-products.csv')\n",
    "nutri_values = pd.read_csv(r'..\\data\\raw\\nutritional-values-for-common-foods.csv')"
   ]
  },
  {
   "cell_type": "markdown",
   "metadata": {},
   "source": [
    "## Nutritional facts for common foods\n",
    "\n",
    "### Pros\n",
    "\n",
    "- `Category` feature is present\n",
    "- `Measure` (serving size) is present but needs conversion\n",
    "- Simple nutritional facts\n",
    "\n",
    "### Cons\n",
    "\n",
    "- Lacks of interesting nutritional facts\n",
    "- Foods have not IDs\n",
    "- Some names are \"broken\" but can be fixed\n"
   ]
  },
  {
   "cell_type": "code",
   "execution_count": 14,
   "metadata": {},
   "outputs": [
    {
     "data": {
      "text/plain": [
       "Index(['Food', 'Measure', 'Grams', 'Calories', 'Protein', 'Fat', 'Sat.Fat',\n",
       "       'Fiber', 'Carbs', 'Category'],\n",
       "      dtype='object')"
      ]
     },
     "execution_count": 14,
     "metadata": {},
     "output_type": "execute_result"
    }
   ],
   "source": [
    "nutri_facts_common.columns"
   ]
  },
  {
   "cell_type": "markdown",
   "metadata": {},
   "source": [
    "## Nutritional facts\n",
    "\n",
    "### Pros\n",
    "\n",
    "- `Category Name` feature is present\n",
    "- Complete nutritional facts\n",
    "\n",
    "### Cons\n",
    "\n",
    "- Lacks of serving sizes\n",
    "- Foods have no IDs"
   ]
  },
  {
   "cell_type": "code",
   "execution_count": 13,
   "metadata": {},
   "outputs": [
    {
     "data": {
      "text/plain": [
       "Index(['Food Name', 'Category Name', 'Calcium', 'Calories', 'Carbs',\n",
       "       'Cholesterol', 'Copper', 'Fats', 'Fiber', 'Folate', 'Iron', 'Magnesium',\n",
       "       'Monounsaturated Fat', 'Net carbs', 'Omega-3 - DHA', 'Omega-3 - DPA',\n",
       "       'Omega-3 - EPA', 'Phosphorus', 'Polyunsaturated fat', 'Potassium',\n",
       "       'Protein', 'Saturated Fat', 'Selenium', 'Sodium', 'Trans Fat',\n",
       "       'Vitamin A (IU)', 'Vitamin A RAE', 'Vitamin B1', 'Vitamin B12',\n",
       "       'Vitamin B2', 'Vitamin B3', 'Vitamin B5', 'Vitamin B6', 'Vitamin C',\n",
       "       'Zinc', 'Choline', 'Fructose', 'Histidine', 'Isoleucine', 'Leucine',\n",
       "       'Lysine', 'Manganese', 'Methionine', 'Phenylalanine', 'Starch', 'Sugar',\n",
       "       'Threonine', 'Tryptophan', 'Valine', 'Vitamin D', 'Vitamin E',\n",
       "       'Vitamin K', 'Omega-3 - ALA', 'Omega-6 - Eicosadienoic acid',\n",
       "       'Omega-6 - Gamma-linoleic acid', 'Omega-3 - Eicosatrienoic acid',\n",
       "       'Omega-6 - Dihomo-gamma-linoleic acid', 'Omega-6 - Linoleic acid',\n",
       "       'Omega-6 - Arachidonic acid'],\n",
       "      dtype='object')"
      ]
     },
     "execution_count": 13,
     "metadata": {},
     "output_type": "execute_result"
    }
   ],
   "source": [
    "nutri_facts.columns"
   ]
  },
  {
   "cell_type": "markdown",
   "metadata": {},
   "source": [
    "## Nutritional values for common foods and products\n",
    "\n",
    "### Pros\n",
    "\n",
    "- Complete nutritional facts\n",
    "\n",
    "### Cons\n",
    "\n",
    "- Has no category feature\n",
    "- `serving_size` has always value 100 (g)"
   ]
  },
  {
   "cell_type": "code",
   "execution_count": 15,
   "metadata": {},
   "outputs": [
    {
     "data": {
      "text/plain": [
       "Index(['Unnamed: 0', 'name', 'serving_size', 'calories', 'total_fat',\n",
       "       'saturated_fat', 'cholesterol', 'sodium', 'choline', 'folate',\n",
       "       'folic_acid', 'niacin', 'pantothenic_acid', 'riboflavin', 'thiamin',\n",
       "       'vitamin_a', 'vitamin_a_rae', 'carotene_alpha', 'carotene_beta',\n",
       "       'cryptoxanthin_beta', 'lutein_zeaxanthin', 'lucopene', 'vitamin_b12',\n",
       "       'vitamin_b6', 'vitamin_c', 'vitamin_d', 'vitamin_e', 'tocopherol_alpha',\n",
       "       'vitamin_k', 'calcium', 'copper', 'irom', 'magnesium', 'manganese',\n",
       "       'phosphorous', 'potassium', 'selenium', 'zink', 'protein', 'alanine',\n",
       "       'arginine', 'aspartic_acid', 'cystine', 'glutamic_acid', 'glycine',\n",
       "       'histidine', 'hydroxyproline', 'isoleucine', 'leucine', 'lysine',\n",
       "       'methionine', 'phenylalanine', 'proline', 'serine', 'threonine',\n",
       "       'tryptophan', 'tyrosine', 'valine', 'carbohydrate', 'fiber', 'sugars',\n",
       "       'fructose', 'galactose', 'glucose', 'lactose', 'maltose', 'sucrose',\n",
       "       'fat', 'saturated_fatty_acids', 'monounsaturated_fatty_acids',\n",
       "       'polyunsaturated_fatty_acids', 'fatty_acids_total_trans', 'alcohol',\n",
       "       'ash', 'caffeine', 'theobromine', 'water'],\n",
       "      dtype='object')"
      ]
     },
     "execution_count": 15,
     "metadata": {},
     "output_type": "execute_result"
    }
   ],
   "source": [
    "nutri_values.columns"
   ]
  },
  {
   "cell_type": "markdown",
   "metadata": {},
   "source": [
    "## Check datasets overlapping by names"
   ]
  },
  {
   "cell_type": "code",
   "execution_count": 16,
   "metadata": {},
   "outputs": [
    {
     "data": {
      "text/plain": [
       "0                 Cows' milk\n",
       "1                  Milk skim\n",
       "2                 Buttermilk\n",
       "3      Evaporated, undiluted\n",
       "4             Fortified milk\n",
       "               ...          \n",
       "330      Fruit-flavored soda\n",
       "331               Ginger ale\n",
       "332                Root beer\n",
       "333                   Coffee\n",
       "334                      Tea\n",
       "Name: Food, Length: 335, dtype: object"
      ]
     },
     "execution_count": 16,
     "metadata": {},
     "output_type": "execute_result"
    }
   ],
   "source": [
    "nutri_facts_common['Food']"
   ]
  },
  {
   "cell_type": "code",
   "execution_count": 17,
   "metadata": {},
   "outputs": [
    {
     "data": {
      "text/plain": [
       "0              Acerola\n",
       "1                Apple\n",
       "2              Apricot\n",
       "3          Dried fruit\n",
       "4              Avocado\n",
       "             ...      \n",
       "1169    Sesame chicken\n",
       "1170        Vermicelli\n",
       "1171         Baby food\n",
       "1172          Zwieback\n",
       "1173      Cherry juice\n",
       "Name: Food Name, Length: 1174, dtype: object"
      ]
     },
     "execution_count": 17,
     "metadata": {},
     "output_type": "execute_result"
    }
   ],
   "source": [
    "nutri_facts['Food Name']"
   ]
  },
  {
   "cell_type": "code",
   "execution_count": 24,
   "metadata": {},
   "outputs": [
    {
     "name": "stdout",
     "output_type": "stream",
     "text": [
      "Number of overlapping foods: 84\n",
      "{'Kale', 'Pineapple juice', 'Avocado', 'Sauerkraut', 'Banana', 'Honey', 'Corn', 'Artichoke', 'Veal', 'Oysters', 'Eggplant', 'Spinach', 'Corned beef', 'Tuna', 'Butter', 'Crab meat', 'Cream cheese', 'Beef', 'Haddock', 'Gin', 'Noodles', 'Rutabagas', 'Asparagus', 'Lobster', 'Swordfish', 'Cantaloupe', 'Oyster stew', 'Oatmeal', 'Halibut', 'Ginger ale', 'Herring', 'Gingerbread', 'Steak', 'Broccoli', 'Custard', 'Vegetable', 'Lettuce', 'Dates', 'Parsley', 'Okra', 'Dandelion greens', 'Rice', 'Chocolate syrup', 'Potato chips', 'French dressing', 'Papaya', 'Grape juice', 'Celery', 'Orange juice', 'Watermelon', 'Flour', 'Tea', 'Kohlrabi', 'Tomato soup', 'Mayonnaise', 'Lard', 'Powdered milk', 'Hamburger', 'Ice cream', 'Roast beef', 'Coffee', 'Olive oil', 'Pineapple', 'Tomato juice', 'Fudge', 'Molasses', 'Turnip greens', 'Margarine', 'Cod', 'Shrimp', 'Spanish rice', 'Cauliflower', 'Prunes', 'Endive', 'Shad', 'Beer', 'Figs', 'Peanut butter', 'Rye', 'Cheese', 'Buttermilk', 'Salmon', 'Mackerel', 'Doughnuts'}\n"
     ]
    }
   ],
   "source": [
    "overlapping_foods = set(nutri_facts['Food Name']).intersection(set(nutri_facts_common['Food']))\n",
    "print(f\"Number of overlapping foods: {len(overlapping_foods)}\")\n",
    "print(overlapping_foods)"
   ]
  },
  {
   "cell_type": "markdown",
   "metadata": {},
   "source": [
    "## Conclusions\n",
    "\n",
    "As it is intended for academic purposes, we will use the simplest dataset `nutri_facts_common`"
   ]
  }
 ],
 "metadata": {
  "kernelspec": {
   "display_name": ".venv",
   "language": "python",
   "name": "python3"
  },
  "language_info": {
   "codemirror_mode": {
    "name": "ipython",
    "version": 3
   },
   "file_extension": ".py",
   "mimetype": "text/x-python",
   "name": "python",
   "nbconvert_exporter": "python",
   "pygments_lexer": "ipython3",
   "version": "3.12.3"
  }
 },
 "nbformat": 4,
 "nbformat_minor": 2
}
