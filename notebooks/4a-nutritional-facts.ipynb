{
 "cells": [
  {
   "cell_type": "markdown",
   "metadata": {},
   "source": [
    "# Using nutritional-facts dataset"
   ]
  },
  {
   "cell_type": "code",
   "execution_count": 41,
   "metadata": {},
   "outputs": [
    {
     "data": {
      "text/html": [
       "<div>\n",
       "<style scoped>\n",
       "    .dataframe tbody tr th:only-of-type {\n",
       "        vertical-align: middle;\n",
       "    }\n",
       "\n",
       "    .dataframe tbody tr th {\n",
       "        vertical-align: top;\n",
       "    }\n",
       "\n",
       "    .dataframe thead th {\n",
       "        text-align: right;\n",
       "    }\n",
       "</style>\n",
       "<table border=\"1\" class=\"dataframe\">\n",
       "  <thead>\n",
       "    <tr style=\"text-align: right;\">\n",
       "      <th></th>\n",
       "      <th>Food Name</th>\n",
       "      <th>Category Name</th>\n",
       "      <th>Calcium</th>\n",
       "      <th>Calories</th>\n",
       "      <th>Carbs</th>\n",
       "      <th>Cholesterol</th>\n",
       "      <th>Copper</th>\n",
       "      <th>Fats</th>\n",
       "      <th>Fiber</th>\n",
       "      <th>Folate</th>\n",
       "      <th>...</th>\n",
       "      <th>Vitamin D</th>\n",
       "      <th>Vitamin E</th>\n",
       "      <th>Vitamin K</th>\n",
       "      <th>Omega-3 - ALA</th>\n",
       "      <th>Omega-6 - Eicosadienoic acid</th>\n",
       "      <th>Omega-6 - Gamma-linoleic acid</th>\n",
       "      <th>Omega-3 - Eicosatrienoic acid</th>\n",
       "      <th>Omega-6 - Dihomo-gamma-linoleic acid</th>\n",
       "      <th>Omega-6 - Linoleic acid</th>\n",
       "      <th>Omega-6 - Arachidonic acid</th>\n",
       "    </tr>\n",
       "  </thead>\n",
       "  <tbody>\n",
       "    <tr>\n",
       "      <th>0</th>\n",
       "      <td>Acerola</td>\n",
       "      <td>Fruits</td>\n",
       "      <td>0.012</td>\n",
       "      <td>32.0</td>\n",
       "      <td>7.7</td>\n",
       "      <td>0.0</td>\n",
       "      <td>0.00009</td>\n",
       "      <td>0.30</td>\n",
       "      <td>1.1</td>\n",
       "      <td>0.000014</td>\n",
       "      <td>...</td>\n",
       "      <td>NaN</td>\n",
       "      <td>NaN</td>\n",
       "      <td>NaN</td>\n",
       "      <td>NaN</td>\n",
       "      <td>NaN</td>\n",
       "      <td>NaN</td>\n",
       "      <td>NaN</td>\n",
       "      <td>NaN</td>\n",
       "      <td>NaN</td>\n",
       "      <td>NaN</td>\n",
       "    </tr>\n",
       "    <tr>\n",
       "      <th>1</th>\n",
       "      <td>Apple</td>\n",
       "      <td>Fruits</td>\n",
       "      <td>0.006</td>\n",
       "      <td>52.0</td>\n",
       "      <td>14.0</td>\n",
       "      <td>0.0</td>\n",
       "      <td>0.00003</td>\n",
       "      <td>0.17</td>\n",
       "      <td>2.4</td>\n",
       "      <td>0.000003</td>\n",
       "      <td>...</td>\n",
       "      <td>0.0</td>\n",
       "      <td>0.00018</td>\n",
       "      <td>0.000002</td>\n",
       "      <td>NaN</td>\n",
       "      <td>NaN</td>\n",
       "      <td>NaN</td>\n",
       "      <td>NaN</td>\n",
       "      <td>NaN</td>\n",
       "      <td>NaN</td>\n",
       "      <td>NaN</td>\n",
       "    </tr>\n",
       "    <tr>\n",
       "      <th>2</th>\n",
       "      <td>Apricot</td>\n",
       "      <td>Fruits</td>\n",
       "      <td>0.013</td>\n",
       "      <td>48.0</td>\n",
       "      <td>11.0</td>\n",
       "      <td>0.0</td>\n",
       "      <td>0.00008</td>\n",
       "      <td>0.39</td>\n",
       "      <td>2.0</td>\n",
       "      <td>0.000009</td>\n",
       "      <td>...</td>\n",
       "      <td>0.0</td>\n",
       "      <td>0.00089</td>\n",
       "      <td>0.000003</td>\n",
       "      <td>NaN</td>\n",
       "      <td>NaN</td>\n",
       "      <td>NaN</td>\n",
       "      <td>NaN</td>\n",
       "      <td>NaN</td>\n",
       "      <td>NaN</td>\n",
       "      <td>NaN</td>\n",
       "    </tr>\n",
       "    <tr>\n",
       "      <th>3</th>\n",
       "      <td>Dried fruit</td>\n",
       "      <td>Fruits</td>\n",
       "      <td>0.055</td>\n",
       "      <td>241.0</td>\n",
       "      <td>63.0</td>\n",
       "      <td>0.0</td>\n",
       "      <td>0.00034</td>\n",
       "      <td>0.51</td>\n",
       "      <td>7.3</td>\n",
       "      <td>0.000010</td>\n",
       "      <td>...</td>\n",
       "      <td>0.0</td>\n",
       "      <td>0.00430</td>\n",
       "      <td>0.000003</td>\n",
       "      <td>NaN</td>\n",
       "      <td>NaN</td>\n",
       "      <td>NaN</td>\n",
       "      <td>NaN</td>\n",
       "      <td>NaN</td>\n",
       "      <td>NaN</td>\n",
       "      <td>NaN</td>\n",
       "    </tr>\n",
       "    <tr>\n",
       "      <th>4</th>\n",
       "      <td>Avocado</td>\n",
       "      <td>Fruits</td>\n",
       "      <td>0.012</td>\n",
       "      <td>160.0</td>\n",
       "      <td>8.5</td>\n",
       "      <td>0.0</td>\n",
       "      <td>0.00019</td>\n",
       "      <td>15.00</td>\n",
       "      <td>6.7</td>\n",
       "      <td>0.000081</td>\n",
       "      <td>...</td>\n",
       "      <td>0.0</td>\n",
       "      <td>0.00210</td>\n",
       "      <td>0.000021</td>\n",
       "      <td>0.11</td>\n",
       "      <td>0.0</td>\n",
       "      <td>0.02</td>\n",
       "      <td>NaN</td>\n",
       "      <td>NaN</td>\n",
       "      <td>NaN</td>\n",
       "      <td>NaN</td>\n",
       "    </tr>\n",
       "  </tbody>\n",
       "</table>\n",
       "<p>5 rows × 59 columns</p>\n",
       "</div>"
      ],
      "text/plain": [
       "     Food Name Category Name  Calcium  Calories  Carbs  Cholesterol   Copper  \\\n",
       "0      Acerola        Fruits    0.012      32.0    7.7          0.0  0.00009   \n",
       "1        Apple        Fruits    0.006      52.0   14.0          0.0  0.00003   \n",
       "2      Apricot        Fruits    0.013      48.0   11.0          0.0  0.00008   \n",
       "3  Dried fruit        Fruits    0.055     241.0   63.0          0.0  0.00034   \n",
       "4      Avocado        Fruits    0.012     160.0    8.5          0.0  0.00019   \n",
       "\n",
       "    Fats  Fiber    Folate  ...  Vitamin D  Vitamin E  Vitamin K  \\\n",
       "0   0.30    1.1  0.000014  ...        NaN        NaN        NaN   \n",
       "1   0.17    2.4  0.000003  ...        0.0    0.00018   0.000002   \n",
       "2   0.39    2.0  0.000009  ...        0.0    0.00089   0.000003   \n",
       "3   0.51    7.3  0.000010  ...        0.0    0.00430   0.000003   \n",
       "4  15.00    6.7  0.000081  ...        0.0    0.00210   0.000021   \n",
       "\n",
       "   Omega-3 - ALA  Omega-6 - Eicosadienoic acid  Omega-6 - Gamma-linoleic acid  \\\n",
       "0            NaN                           NaN                            NaN   \n",
       "1            NaN                           NaN                            NaN   \n",
       "2            NaN                           NaN                            NaN   \n",
       "3            NaN                           NaN                            NaN   \n",
       "4           0.11                           0.0                           0.02   \n",
       "\n",
       "   Omega-3 - Eicosatrienoic acid  Omega-6 - Dihomo-gamma-linoleic acid  \\\n",
       "0                            NaN                                   NaN   \n",
       "1                            NaN                                   NaN   \n",
       "2                            NaN                                   NaN   \n",
       "3                            NaN                                   NaN   \n",
       "4                            NaN                                   NaN   \n",
       "\n",
       "   Omega-6 - Linoleic acid  Omega-6 - Arachidonic acid  \n",
       "0                      NaN                         NaN  \n",
       "1                      NaN                         NaN  \n",
       "2                      NaN                         NaN  \n",
       "3                      NaN                         NaN  \n",
       "4                      NaN                         NaN  \n",
       "\n",
       "[5 rows x 59 columns]"
      ]
     },
     "execution_count": 41,
     "metadata": {},
     "output_type": "execute_result"
    }
   ],
   "source": [
    "import pandas as pd\n",
    "\n",
    "nutritional_df = pd.read_csv(r'..\\data\\raw\\nutritional-facts.csv')\n",
    "nutritional_df.head()"
   ]
  },
  {
   "cell_type": "markdown",
   "metadata": {},
   "source": [
    "This dataset has simple and intuitive names for foods (`Food Name`) and also the category in which the food belongs (`Category Name`). It has a lot of nutritional facts but it lacks of serving size that could be added in another dataset (e.g. `nutri-facts-serving.csv`). Let's take only macronutrients features."
   ]
  },
  {
   "cell_type": "code",
   "execution_count": 42,
   "metadata": {},
   "outputs": [
    {
     "data": {
      "text/plain": [
       "Index(['Food Name', 'Category Name', 'Calcium', 'Calories', 'Carbs',\n",
       "       'Cholesterol', 'Copper', 'Fats', 'Fiber', 'Folate', 'Iron', 'Magnesium',\n",
       "       'Monounsaturated Fat', 'Net carbs', 'Omega-3 - DHA', 'Omega-3 - DPA',\n",
       "       'Omega-3 - EPA', 'Phosphorus', 'Polyunsaturated fat', 'Potassium',\n",
       "       'Protein', 'Saturated Fat', 'Selenium', 'Sodium', 'Trans Fat',\n",
       "       'Vitamin A (IU)', 'Vitamin A RAE', 'Vitamin B1', 'Vitamin B12',\n",
       "       'Vitamin B2', 'Vitamin B3', 'Vitamin B5', 'Vitamin B6', 'Vitamin C',\n",
       "       'Zinc', 'Choline', 'Fructose', 'Histidine', 'Isoleucine', 'Leucine',\n",
       "       'Lysine', 'Manganese', 'Methionine', 'Phenylalanine', 'Starch', 'Sugar',\n",
       "       'Threonine', 'Tryptophan', 'Valine', 'Vitamin D', 'Vitamin E',\n",
       "       'Vitamin K', 'Omega-3 - ALA', 'Omega-6 - Eicosadienoic acid',\n",
       "       'Omega-6 - Gamma-linoleic acid', 'Omega-3 - Eicosatrienoic acid',\n",
       "       'Omega-6 - Dihomo-gamma-linoleic acid', 'Omega-6 - Linoleic acid',\n",
       "       'Omega-6 - Arachidonic acid'],\n",
       "      dtype='object')"
      ]
     },
     "execution_count": 42,
     "metadata": {},
     "output_type": "execute_result"
    }
   ],
   "source": [
    "nutritional_df.columns"
   ]
  },
  {
   "cell_type": "code",
   "execution_count": 43,
   "metadata": {},
   "outputs": [
    {
     "data": {
      "text/html": [
       "<div>\n",
       "<style scoped>\n",
       "    .dataframe tbody tr th:only-of-type {\n",
       "        vertical-align: middle;\n",
       "    }\n",
       "\n",
       "    .dataframe tbody tr th {\n",
       "        vertical-align: top;\n",
       "    }\n",
       "\n",
       "    .dataframe thead th {\n",
       "        text-align: right;\n",
       "    }\n",
       "</style>\n",
       "<table border=\"1\" class=\"dataframe\">\n",
       "  <thead>\n",
       "    <tr style=\"text-align: right;\">\n",
       "      <th></th>\n",
       "      <th>Food Name</th>\n",
       "      <th>Category Name</th>\n",
       "      <th>Calories</th>\n",
       "      <th>Carbs</th>\n",
       "      <th>Fats</th>\n",
       "      <th>Fiber</th>\n",
       "      <th>Protein</th>\n",
       "    </tr>\n",
       "  </thead>\n",
       "  <tbody>\n",
       "    <tr>\n",
       "      <th>0</th>\n",
       "      <td>Acerola</td>\n",
       "      <td>Fruits</td>\n",
       "      <td>32.0</td>\n",
       "      <td>7.7</td>\n",
       "      <td>0.30</td>\n",
       "      <td>1.1</td>\n",
       "      <td>0.40</td>\n",
       "    </tr>\n",
       "    <tr>\n",
       "      <th>1</th>\n",
       "      <td>Apple</td>\n",
       "      <td>Fruits</td>\n",
       "      <td>52.0</td>\n",
       "      <td>14.0</td>\n",
       "      <td>0.17</td>\n",
       "      <td>2.4</td>\n",
       "      <td>0.26</td>\n",
       "    </tr>\n",
       "    <tr>\n",
       "      <th>2</th>\n",
       "      <td>Apricot</td>\n",
       "      <td>Fruits</td>\n",
       "      <td>48.0</td>\n",
       "      <td>11.0</td>\n",
       "      <td>0.39</td>\n",
       "      <td>2.0</td>\n",
       "      <td>1.40</td>\n",
       "    </tr>\n",
       "    <tr>\n",
       "      <th>3</th>\n",
       "      <td>Dried fruit</td>\n",
       "      <td>Fruits</td>\n",
       "      <td>241.0</td>\n",
       "      <td>63.0</td>\n",
       "      <td>0.51</td>\n",
       "      <td>7.3</td>\n",
       "      <td>3.40</td>\n",
       "    </tr>\n",
       "    <tr>\n",
       "      <th>4</th>\n",
       "      <td>Avocado</td>\n",
       "      <td>Fruits</td>\n",
       "      <td>160.0</td>\n",
       "      <td>8.5</td>\n",
       "      <td>15.00</td>\n",
       "      <td>6.7</td>\n",
       "      <td>2.00</td>\n",
       "    </tr>\n",
       "  </tbody>\n",
       "</table>\n",
       "</div>"
      ],
      "text/plain": [
       "     Food Name Category Name  Calories  Carbs   Fats  Fiber  Protein\n",
       "0      Acerola        Fruits      32.0    7.7   0.30    1.1     0.40\n",
       "1        Apple        Fruits      52.0   14.0   0.17    2.4     0.26\n",
       "2      Apricot        Fruits      48.0   11.0   0.39    2.0     1.40\n",
       "3  Dried fruit        Fruits     241.0   63.0   0.51    7.3     3.40\n",
       "4      Avocado        Fruits     160.0    8.5  15.00    6.7     2.00"
      ]
     },
     "execution_count": 43,
     "metadata": {},
     "output_type": "execute_result"
    }
   ],
   "source": [
    "cols = ['Food Name', 'Category Name', 'Calories', 'Carbs', 'Fats', 'Fiber', 'Protein']\n",
    "nutritional_df = nutritional_df[cols]\n",
    "nutritional_df.head()"
   ]
  },
  {
   "cell_type": "markdown",
   "metadata": {},
   "source": [
    "Let's take a further look into distinct values of `Category Name`."
   ]
  },
  {
   "cell_type": "code",
   "execution_count": 44,
   "metadata": {},
   "outputs": [
    {
     "data": {
      "text/plain": [
       "array(['Fruits', 'Vegetables', 'Seafood', 'Dairy', 'Mushrooms', 'Grains',\n",
       "       'Meat', 'Spices', 'Nuts', 'Greens', 'Sweets', 'Oils and Sauces',\n",
       "       'Beverages', 'Soups', 'Baked Products', 'Fast Foods',\n",
       "       'Meals, Entrees, and Side Dishes', 'Baby Foods'], dtype=object)"
      ]
     },
     "execution_count": 44,
     "metadata": {},
     "output_type": "execute_result"
    }
   ],
   "source": [
    "nutritional_df['Category Name'].unique()"
   ]
  },
  {
   "cell_type": "markdown",
   "metadata": {},
   "source": [
    "Some considerations about categories:\n",
    "\n",
    "- `Fruits`, `Vegetables` and `Greens` should be picked following their seasonality, with a complementary dataset (e.g. `nutri-facts-season.csv`)\n",
    "- `Seafood`, `Meat` and `Diary` should not be recommended to vegan users, while vegetarian ones could include `Diary`\n",
    "- `Diary` should not be recommended to lactose intolerant users\n",
    "- `Grains` containing gluten should not be recommended to gluten intolerant users, so it requires a fine-grained subdivision\n",
    "- `Nuts` should be filtered according to users' allergies, so it requires a fine-grained selection\n",
    "- `Sweets` is a special category that should be used according to users' emotive state of the day\n",
    "- `Oils and Sauces` may require a fine-grained selection for users' with tyroid issues (e.g. soy)\n",
    "- `Beverages` could be excluded from the dataset\n",
    "- `Soups` needs further investigation\n",
    "- `Fast Foods` is a special category that should be used according to users' emotive state of the day\n",
    "- `Meals, Entrees, and Side Dishes` needs further investigation and could be useful during recipe generations\n",
    "- `Baby Foods` could be excluded from the dataset as it is not taken into account\n",
    "\n",
    "Let's remove some categories and see how many rows are deleted after the operation."
   ]
  },
  {
   "cell_type": "code",
   "execution_count": 45,
   "metadata": {},
   "outputs": [
    {
     "name": "stdout",
     "output_type": "stream",
     "text": [
      "Before removing rows:  (1174, 7)\n",
      "After removing rows:  (1036, 7)\n"
     ]
    }
   ],
   "source": [
    "print(\"Before removing rows: \", nutritional_df.shape)\n",
    "nutritional_df = nutritional_df[nutritional_df['Category Name'] != 'Baby Foods']\n",
    "nutritional_df = nutritional_df[nutritional_df['Category Name'] != 'Meals, Entrees, and Side Dishes']\n",
    "nutritional_df = nutritional_df[nutritional_df['Category Name'] != 'Fast Foods']\n",
    "print(\"After removing rows: \", nutritional_df.shape)"
   ]
  },
  {
   "cell_type": "markdown",
   "metadata": {},
   "source": [
    "Now we can check if every food in the seasonality dataset matches with foods in the dataset."
   ]
  },
  {
   "cell_type": "code",
   "execution_count": 46,
   "metadata": {},
   "outputs": [
    {
     "name": "stdout",
     "output_type": "stream",
     "text": [
      "All seasonal food names are present in the nutritional_df.\n"
     ]
    }
   ],
   "source": [
    "import json\n",
    "import pandas as pd\n",
    "\n",
    "with open(r'..\\data\\raw\\food-seasonality.json', 'r') as file:\n",
    "    seasonality_data = json.load(file)\n",
    "\n",
    "seasonal_food_names = []\n",
    "for month, foods in seasonality_data['Italy'].items():\n",
    "    seasonal_food_names.extend(foods)\n",
    "\n",
    "seasonal_food_names = [food.lower() for food in seasonal_food_names]\n",
    "nutritional_df['Food Name'] = nutritional_df['Food Name'].str.lower()\n",
    "missing_food_names = [food for food in seasonal_food_names if food not in nutritional_df['Food Name'].values]\n",
    "\n",
    "if not missing_food_names:\n",
    "    print(\"All seasonal food names are present in the nutritional_df.\")\n",
    "else:\n",
    "    print(\"The following seasonal food names are missing in the nutritional_df:\")\n",
    "    print(missing_food_names)\n"
   ]
  }
 ],
 "metadata": {
  "kernelspec": {
   "display_name": ".venv",
   "language": "python",
   "name": "python3"
  },
  "language_info": {
   "codemirror_mode": {
    "name": "ipython",
    "version": 3
   },
   "file_extension": ".py",
   "mimetype": "text/x-python",
   "name": "python",
   "nbconvert_exporter": "python",
   "pygments_lexer": "ipython3",
   "version": "3.12.3"
  }
 },
 "nbformat": 4,
 "nbformat_minor": 2
}
